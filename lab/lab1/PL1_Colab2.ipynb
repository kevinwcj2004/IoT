{
  "cells": [
    {
      "cell_type": "markdown",
      "metadata": {
        "id": "6f12-p32tef5"
      },
      "source": [
        "<a href=\"https://colab.research.google.com/github/purduelamm/purdue_me597_iiot/blob/main/lab/lab1/PL1_Colab2.ipynb\" target=\"_parent\"><img src=\"https://colab.research.google.com/assets/colab-badge.svg\" alt=\"Open In Colab\"/></a>"
      ]
    },
    {
      "cell_type": "markdown",
      "metadata": {
        "id": "qt1MVL2l98aT"
      },
      "source": [
        "# Prelab 1.2 Python algorithms for datetime and saving into a csv file"
      ]
    },
    {
      "cell_type": "markdown",
      "metadata": {
        "id": "Qr7lyUq798VI"
      },
      "source": [
        "## 2.1 Python datetime function\n",
        "\n",
        "Python has a special date class, called “date.” A date, like a string, or a number, or a numpy array, has special rules for creating it and methods for working with it.\n",
        "\n",
        "Here is an example on computing and printing local date and time:"
      ]
    },
    {
      "cell_type": "code",
      "execution_count": 15,
      "metadata": {
        "id": "GA0g03hOe_eT",
        "collapsed": true,
        "outputId": "1decb4ba-b36e-4210-b433-b1b6c1dd213c",
        "colab": {
          "base_uri": "https://localhost:8080/"
        }
      },
      "outputs": [
        {
          "output_type": "stream",
          "name": "stdout",
          "text": [
            "2025-01-25 20:40:24.095774\n"
          ]
        }
      ],
      "source": [
        "# Import datetime from the datetime module\n",
        "from datetime import datetime\n",
        "\n",
        "# Compute the local datetime: local_dt\n",
        "local_dt = datetime.now()\n",
        "\n",
        "# Print the local datetime\n",
        "print(local_dt)"
      ]
    },
    {
      "cell_type": "markdown",
      "metadata": {
        "id": "hZbXQXwIik91"
      },
      "source": [
        "## 2.2 Formating date and time\n",
        "You can also display the datetime function in different ways depending on convenience.\n",
        "The following example illustrates how to personalize the date-time formatting:"
      ]
    },
    {
      "cell_type": "code",
      "execution_count": 2,
      "metadata": {
        "id": "TQstXKOgi-oX",
        "outputId": "ded2eaca-e0de-478f-83d0-468ab340ee01",
        "colab": {
          "base_uri": "https://localhost:8080/"
        }
      },
      "outputs": [
        {
          "output_type": "stream",
          "name": "stdout",
          "text": [
            "2025-01-25 20:18:18.344798\n"
          ]
        }
      ],
      "source": [
        "# Compute the local datetime: local_dt\n",
        "local_dt = datetime.now().strftime(\"%Y-%m-%d %H:%M:%S.%f\") #The string inside parenthesis defines the format for displaying. The % represents quantity, Y = year, m = month, d = day, etc.\n",
        "\n",
        "# Print the local datetime\n",
        "print(local_dt)"
      ]
    },
    {
      "cell_type": "markdown",
      "metadata": {
        "id": "u0f3Z41GjZX0"
      },
      "source": [
        "### Task 2.1\n",
        "\n",
        "Display the local datetime in the following formats:\n",
        "* month/day/year\n",
        "* hour:minute:second"
      ]
    },
    {
      "cell_type": "code",
      "execution_count": 7,
      "metadata": {
        "id": "WfTjCCprjxUk",
        "outputId": "b9ce2045-8e92-4183-fabe-e0ab6bb1c141",
        "colab": {
          "base_uri": "https://localhost:8080/"
        }
      },
      "outputs": [
        {
          "output_type": "stream",
          "name": "stdout",
          "text": [
            "01/25/2025 20:21:00.239992\n"
          ]
        }
      ],
      "source": [
        "#Write your code below this line:\n",
        "print(datetime.now().strftime(\"%m/%d/%Y %H:%M:%S.%f\"))"
      ]
    },
    {
      "cell_type": "markdown",
      "metadata": {
        "id": "AuzB8uHXhQqr"
      },
      "source": [
        "You can also perform arithmetics in Python.\n",
        "\n"
      ]
    },
    {
      "cell_type": "code",
      "execution_count": 8,
      "metadata": {
        "id": "mNOyNK71hZHY",
        "outputId": "9edfcd7f-1e05-4bfe-a8d0-dd831d278657",
        "colab": {
          "base_uri": "https://localhost:8080/"
        }
      },
      "outputs": [
        {
          "output_type": "stream",
          "name": "stdout",
          "text": [
            "The difference between Superbowls on 2021-02-07 and 2019-02-03 is 735 days, 0:00:00\n"
          ]
        }
      ],
      "source": [
        "# Import date\n",
        "from datetime import date\n",
        "# Create Dates\n",
        "superbowl_dates = [date(2019, 2, 3), date(2020, 2, 2), date(2021, 2, 7), date(2022, 2, 13)]\n",
        "\n",
        "#Subtracting the third and first date\n",
        "difference = superbowl_dates[2]-superbowl_dates[0]\n",
        "\n",
        "#Print the results as a sentence. You can concat strings by using commas\n",
        "print('The difference between Superbowls on',superbowl_dates[2],'and',superbowl_dates[0],'is',difference)\n",
        "\n"
      ]
    },
    {
      "cell_type": "markdown",
      "metadata": {
        "id": "jq__9J06pFGf"
      },
      "source": [
        "You can also use a time function as well. The following example calculates the time difference before and after printing a string:"
      ]
    },
    {
      "cell_type": "code",
      "execution_count": 13,
      "metadata": {
        "id": "6Q0yTK4PpKzC",
        "outputId": "11d0f297-05ce-4d07-b2d2-ca80db0122cf",
        "colab": {
          "base_uri": "https://localhost:8080/"
        }
      },
      "outputs": [
        {
          "output_type": "stream",
          "name": "stdout",
          "text": [
            "hello\n",
            "0.00015854835510253906 seconds\n"
          ]
        }
      ],
      "source": [
        "#Import time library\n",
        "import time\n",
        "start = time.time()\n",
        "print(\"hello\") #Printing the string = hello\n",
        "end = time.time()\n",
        "print(end - start,'seconds')"
      ]
    },
    {
      "cell_type": "markdown",
      "metadata": {
        "id": "fSXVcm-RpWg3"
      },
      "source": [
        "### Task 2.2\n",
        "* Calculate how many days are left on this year.\n",
        "* Determine if the processing time for printing longer strings in Python changes significantly in terms of seconds."
      ]
    },
    {
      "cell_type": "code",
      "execution_count": 14,
      "metadata": {
        "id": "vSk89pDnp_nL",
        "outputId": "1da5d995-b3a3-40bc-f82b-fc88edf8dae4",
        "colab": {
          "base_uri": "https://localhost:8080/"
        }
      },
      "outputs": [
        {
          "output_type": "stream",
          "name": "stdout",
          "text": [
            "340 days, 0:00:00\n",
            "1\n",
            "01234567890123456789012345678901234567890123456789012334567890123456789012345678901234567890123456789\n",
            "short string: 0.000152 seconds, long string: 0.000104 seconds\n"
          ]
        }
      ],
      "source": [
        "#Write your code below here.\n",
        "print(date(2025, 12, 31) - date(2025, 1, 25))\n",
        "\n",
        "start_short = time.time()\n",
        "print(\"1\")\n",
        "end_short = time.time()\n",
        "\n",
        "start_long = time.time()\n",
        "print(\"01234567890123456789012345678901234567890123456789012334567890123456789012345678901234567890123456789\")\n",
        "end_long = time.time()\n",
        "\n",
        "print(\"short string: %f seconds, long string: %f seconds\" % (end_short-start_short, end_long-start_long))"
      ]
    },
    {
      "cell_type": "markdown",
      "metadata": {
        "id": "qwK2q5POtWx0"
      },
      "source": [
        "##2.3 (Preview) Using Python to save csv file\n",
        "\n",
        "In Lab 1, you will integrate code block as shown below.\n",
        "The following algorithm performs data saving of multiple rows into a csv file.\n",
        "Carefully read all comment lines and become familiar with the code.\n",
        "\n",
        "Warning: These algorithm will not run on its own. It requires additional lines of code that connect the data with to the algorithm."
      ]
    },
    {
      "cell_type": "markdown",
      "metadata": {
        "id": "TWcOeL29tZaq"
      },
      "source": [
        "---\n",
        "**Python - use this code block to save data in a csv file on the Raspberry Pi**\n",
        "\n",
        "```\n",
        "# writing to CSV file using csv package\n",
        "with open(filename, 'w') as f:\n",
        "    # creating a CSV wiriting object\n",
        "    write = csv.writer(f)\n",
        "\n",
        "    # writing header on the first row\n",
        "    write.writerow(header)\n",
        "\n",
        "    #Use a 'while' or 'for' cycle to extract data row by row.\n",
        "    while (declare the conditional within these parentheses):\n",
        "        i += 1              # indicator + 1 for each row in a loop\n",
        "                            # write your timestamp for measurement\n",
        "                            #extract information from the sensor and save it as a variable\n",
        "        \n",
        "\n",
        "        data = [timestamp, str(var1), str(var2), str(var3)] # data list, all elements are string data type\n",
        "\n",
        "        write.writerow(data) # writing measured data\n",
        "\n",
        "        # printing indicator, timestamp, var1, var2, var3 (this section is optional)\n",
        "        print(\"{}th measurement, {}:\\n var1={:.4f}units, var2={:.4f}units, var3={:.4f}unit\\n\".format(i, timestamp, var1, var2, var3))\n",
        "\n",
        "        time.sleep(1)\n",
        "\n",
        "# gently close the CSV file object\n",
        "f.close()\n",
        "```\n",
        "---"
      ]
    },
    {
      "cell_type": "markdown",
      "metadata": {
        "id": "dVG6Y_A6IY6X"
      },
      "source": [
        "<br></br>\n",
        "\n",
        "Get back to [Lab Index Page](https://colab.research.google.com/github/purduelamm/purdue_me597_iiot/blob/main/index.ipynb)"
      ]
    }
  ],
  "metadata": {
    "colab": {
      "provenance": []
    },
    "kernelspec": {
      "display_name": "Python 3",
      "name": "python3"
    },
    "language_info": {
      "name": "python"
    }
  },
  "nbformat": 4,
  "nbformat_minor": 0
}